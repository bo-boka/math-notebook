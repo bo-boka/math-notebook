{
 "cells": [
  {
   "cell_type": "markdown",
   "metadata": {},
   "source": [
    "# Cartesian Coordinate System\n",
    "* Developed by Rene Descartes (thus Cartesian), it revolutionized mathematics by providing the first systematic link between Euclidean geometry and algebra. Using the Cartesian coordinate system, geometric shapes (such as curves) can be described by Cartesian equations: algebraic equations involving the coordinates of the points lying on the shape.\n",
    "* Rectangular grid system that uses the horizontal number line, the **x-axis**, with a vertical number line, the **y-axis**, crossing perpendicularly at 0.\n",
    " * Aka the x-y plane, the coordinate plane, or the Cartesian plane.\n",
    "* Every point is represented by an **ordered pair** in parenthesis, the first number being the **x-coordinate** of the point, and the second number being the **y-coordinate**, i.e. (x,y). The phrase \"ordered pair\" implies that the order is important.\n",
    "* The point at which the x & y axes intersect at 0 is called the **origin** & has the coordinates (0,0).\n",
    " * Points with a y-coordinate equal to 0 are on the x-axis, and have coordinates (a,0).\n",
    " * Points with an x-coordinate equal to 0 are on the y-axis, and have coordinates (0,b).\n",
    "* To distinguish between two or more points, we use **subscripts**, which is a small number written to the right of, and a little lower than, a variable like $(x_1,y_1)$, read 'x sub 1, y sub 1' and $(x_2,y_2)$, read 'x sub 2, y sub 2', and so on.\n",
    "* The x- and y-axes divide the plane into 4 areas, called **quadrants**. The quadrants are identified by Roman numerals, beginning on the upper right and proceeding counterclockwise.\n",
    " * There is a pattern of signs in the coordinates for each quadrant.\n",
    "   * Quadrant I: (+,+)\n",
    "   * Quadrant II: (-,+)\n",
    "   * Quadrant III: (-,-)\n",
    "   * Quadrant IV: (+,-)\n",
    " \n",
    "![title](./../resources/coordinate-grid.png)\n",
    "\n",
    "## Terms\n",
    "* **Abscissa**: The x -coordinate, the distance from a point to the vertical or y-axis, measured parallel to the horizontal or x -axis.\n",
    "* **Ordinate**: The y-coordinate, represents the directed distance of the point from the x-axis.\n",
    "* **Point Plotting**: To place a point on a coordinate plane by using its x and y coordinates.\n",
    "* **Graphing**: Plotting the collection of all points whose coordinates satisfy a given relation (such as a function).\n",
    "* **Function**: Subset of equations that have solutions based on the input for the values of the variables.\n",
    "* **Graph of a Function**: the graph of a function $f$ is the set of ordered pairs $(x,y)$, where $f(x)=y$, thus satisfying a given relation, and will cross the vertical line at two or more points.\n",
    " * Functions cannot always be graphed.\n",
    " * In the common case where $x$ and $f(x)$ are real numbers, these pairs are Cartesian coordinates of points in two-dimensional space and thus form a subset of this plane.\n",
    "* **Graph of an Equation**: The graph of an equation drawn using a single line for linear and parabola for higher-degree equations should only intersect at one point with a vertical line drawn in the graph.\n",
    " * Equations can always be graphed because of the definite value of x.\n",
    "\n"
   ]
  },
  {
   "cell_type": "markdown",
   "metadata": {},
   "source": [
    "# Linear Equations\n",
    "* Aka 'One-degree equation', highest power of the variable is 1, which is typically not shown, but implied.\n",
    "* Linear relationships can be expressed using a mathematical equation or graphical format.\n",
    "* The graph of a linear equation will always be a straight line that represents all the solutions to the equation, since any and every point on the line is an ordered pair (x,y) solution to the equation.\n",
    "\n",
    "#### Linear Equation in One Variable\n",
    "* Standard Form: ax + b = 0, where a,b are real numbers and a$\\neq$0 \n",
    " * x is the \"one variable\", which means there is only 1 solution in the form of $x = -\\frac{b}{a}$\n",
    " * The equation is **constant** since the only value never changes.\n",
    "* The graph of linear equations in one variable will always be either a horizontal or vertical line, depending on which axis variable is given in the equation. For any ordered pair (x,y) used to graph the line, the constant variable will always be the same value, while the other varaible can be any & all values along the constant's axis. Thus, x & y are independent of each other.\n",
    "\n",
    "#### Linear Equation in Two Variables\n",
    "* Standard Form: ax + by + c = 0, where a,b,c are real numbers and a,b are not both 0 \n",
    " * x and y are the \"two variables\", which mean there are infinitely many solutions. & their values are **dependent** on each other.\n",
    " * For every number that is substituted for x, there is a corresponding y value. \n",
    "* The graph of a linear equation in two variables will always be a slanted line that passes through both axes. Any ordered pair solutions to the equation are points that lie along the same line. Thus, x & y are dependent on each other.\n",
    "\n",
    "\n",
    "## Solutions for Linear Equations in Two Variables\n",
    "* Linear equations in two variables (see above definition in Types of Equations) have an infinite amount of solutions, each represented as an ordered pair (x,y), which are also the coordinates of a point on the same line as any other solution.\n",
    "* To find a solution, pick either x or y variable and use the substituion of any number. Evaluate to isolate and solve for the other variable.\n",
    " * Usually, substitue any value for x & then solve for y.\n",
    "* Do this 3 times to get 3 different points to plot & use a 'Table of Solutions' to list your coordinates.\n",
    " * Solutions can be listed in ascending order by x, usually starting from 0.\n",
    "* Example: Create a table of solutions for **y = 5x - 1** by choosing any value for x. Graph below. \n",
    " * First solution, where x = 0, solve for y: \n",
    "   * y = 5(0) - 1\n",
    "   * y = -1\n",
    "\n",
    "| Substitute x | Solve for y | Solution |\n",
    "|:-------------|:------------|:---------|\n",
    "| 0 | -1 | (0,-1) |\n",
    "| 1 | 4 | (1,4) |\n",
    "| 2 | 9 | (2,9) |\n",
    "| 5 | 24 | (5,24) |\n",
    "\n",
    "\n",
    "## Solutions for Linear Equations in One Variable\n",
    "* An equation with only one variable will be graphed as either a vertical or horizontal line because either the x or y value is constant (will always be the same) since it's the only value specified in the equation. This allows you to choose any value for the second coordinate when graphing the line.\n",
    "* **Vertical Line**: The graph of an equation that can be written in the form x=a. The line passes through the x-axis at (a,0).\n",
    "* **Horizontal Line**: The graph of an equation that can be written in the form y=b. The line passes through the y-axis at (0,b).\n",
    "* Example: Solve the equation **2x + 1 = -3** and create a table. Graph below.\n",
    " * Solve for x:\n",
    "   * 2x = -3 - 1\n",
    "   * 2x = -4\n",
    "   * x = $\\frac{-4}{2}$\n",
    "   * x = -2\n",
    "\n",
    "| Solution x | Any value for y | Coordinates |\n",
    "|:-------------|:------------|:---------|\n",
    "| -2 | -1 | (-2,-1) |\n",
    "| -2 | 4 | (-2,4) |\n",
    "| -2 | 9 | (-2,9) |\n",
    "\n",
    "\n",
    "## Intercepts\n",
    "* The points at which a line intersect the x- & y-axes.\n",
    " * The **x-intercept** is the point, (a,0), where the graph crosses the x-axis. The x-intercept occurs when y is zero.\n",
    " * The **y-intercept** is the point, (0,b), where the graph crosses the y-axis. The y-intercept occurs when x is zero.\n",
    "* Can graph a line using the intercepts from its equation.\n",
    "\n",
    "#### Calculating Intercepts with Equation\n",
    "* We can find the x & y intercepts by using a line's equation & this is often the easiest way to graph a linear equation.\n",
    "* Since the x-intercept occurs when y is zero and the y-intercept occurs when x is zero gives, to find the x-intercept, let y=0 and solve for x. To find the y-intercept, let x=0 and solve for y.\n",
    "* Example: Find the intercepts of 2x + y = 6\n",
    " * Y-Intercept:\n",
    "   * x = 0\n",
    "   * 2(0) + y = 6\n",
    "   * y = 6\n",
    "   * (0,6)\n",
    " * X-Intercept: \n",
    "   * y = 0\n",
    "   * 2x + 0 = 6\n",
    "   * x = 3\n",
    "   * (3,0)\n",
    "\n",
    "\n",
    "## Slope\n",
    "* Visualy, slope is the steepness of a line.\n",
    "* Conceptually, slope is the ratio of vertical change to horizontal change between two points on the plane or a line. So, slope equals the ratio of the rise over the run, measuring the rate of change for a line.\n",
    "* **Rise**: Vertical change of a line (y-change).\n",
    "* **Run**: Horizontal change of a line (x-change).\n",
    "* **m**: Variable that's always used to represent slope.\n",
    "* Formula: $m = \\frac{rise}{run}$\n",
    "\n",
    "* A line can slant upwards or downwards, but it is always read from left to right. Therefore, the rise can be positive or negative, but the run will always be positive. Thus, the rise determines the sign of a slope.\n",
    " * If a line slants upward, the slope is positive. \n",
    " * If a line slants downward, the slope is negative.\n",
    "* Slope is the hypotenuse of a right triangle, where the height & length of the sides are the rise & run, respectively. On a grid, if a line is vertical or horizontal, a right triangle cannot be formed because either the rise (height) or the run (length) is 0.\n",
    " * Horizontal lines have a slope of 0 because the rise is 0 and $\\frac{0}{x} = 0$ (0 divided by anything is 0).\n",
    " * Vertical lines have a slope of 'undefined' because the run is 0 and $\\frac{y}{0} = undefined$ (you can't divide by 0).\n",
    "\n",
    "#### Determining Slope/Points/Lines Visually\n",
    "* The slope of a line on a grid can be determined by counting the rise & run from one point to the other.\n",
    " * Count the Rise: Start from the leftmost point and count the intervals vertically to the second point.\n",
    "  * If you count upward, the rise is positive.\n",
    "  * If you count downward, the ries is negative.\n",
    " * Count the Run: From the point you're at, count the intervals horizontally to the second point.\n",
    " * Put the rise over run in a fraction.\n",
    "* Likewise, a point on grid can be determined by counting in the same way using slope from another point. \n",
    " * For graphs with larger numbers, it's helpful to use a larger equivalent fraction of the slope for accuracy.\n",
    "\n",
    "#### Slope Formula\n",
    "* If you have the coordinates of two points, you can get the slope by subtracting the first point from the second point to get the rate of change. \n",
    "* Formula: $m = \\frac{y_2 - y_1}{x_2 - x_1}$\n",
    "* You will get the same answer regardless of which point is subtracted from which.\n",
    "* Example: Find the slope of (1, 2) and (3, 5)\n",
    " * $m = \\frac{5-2}{3-1}$\n",
    " * $m = \\frac{3}{2}$\n",
    "* The slope formula is the same as $m = \\frac{rise}{run}$ because rise represents a 'change in y' and run represents a 'change in x'.\n",
    "\n",
    "#### Calculating Points Given a Point & Slope\n",
    "* If you have the coordinates of 1 point and the slope of a line, you can calculate other points on the line to graph, since y is associated with the rise & x with the run.\n",
    "* Unofficial Formula: $(x_1,y_1) = (x + run, y + rise)$\n",
    "* To get the second point for a graph, you add the slope to the given point by adding the rise to y and the run to x. You can add the slope again to the result for a third point.\n",
    "* Example: For a point, (3, 2), and a slope of 2, find another point.\n",
    " * $(x_1,y_1) = (3 + 1, 2 + 2)$\n",
    " * $(x_1,y_1) = (4,4)$\n",
    " * $(x_2,y_2) = (4 + 1, 4 + 2)$\n",
    " * $(x_2,y_2) = (5,6)$\n",
    " \n",
    "#### Slope-Intercept Form\n",
    "* Used to easily determine slope & y-intercept.\n",
    "* The standard form of a linear equation in two variables is ax + by + c = 0, where x & y are the variables. But a linear equation in two variables can be written in different forms as long as there are two variables, ex: y = ax + b.\n",
    "* Slope-intercept form, or \"y-form\", is a linear equation in two variables that's formatted as y = mx + b\n",
    " * When a linear equation is solved for y, the coefficient of the x term is the slope, represented as m rather than 'a', and the constant term, b, is the y-coordinate of the y-intercept. \n",
    "* To convert an equation to slope-intercept form, simply solve for y.\n",
    "* Any equation formatted in this way automatically gives you a point & the slope.\n",
    "* Example: For the equation $y = \\frac{1}{2} + 3$\n",
    " * $m = \\frac{1}{2}$\n",
    " * y-intercept = (0,3)\n",
    "\n",
    "#### Point-Slope Formula\n",
    "* Used to convert points into an equation.\n",
    "* If you have the coordinates of 1 point and the slope of a line, you can calculate the equation of a line.\n",
    "* Formula: $y - y_1 = m(x - x_1)$\n",
    "* Example: Find the equation for a line with a point (3, 2) and a slope of 2.\n",
    " * y - 2 = 2(x - 3)\n",
    " * y - 2 = 2x - 6\n",
    " * y = 2x - 6 + 2\n",
    " * y = 2x - 4\n",
    "* Since the equation is in slope-intercept form, we have another point, the y-intercept (0,4), to graph a line.\n",
    "\n",
    "#### Parallel Lines\n",
    "* Two lines that never intersect & have the same slope. \n",
    "* Denoted by comparisons:\n",
    " * is parallel with: $\\|$\n",
    " * is NOT paralell with: $\\nparallel$\n",
    " * the slope parallel to another line: $m_\\|$\n",
    "* Two lines that are linear equations in two variables are parallel when they have the same slope with different y-intercepts.\n",
    " * You can determine if lines are paralell by putting them into slope-intercept form. The slope should be the same, but the y-intercepts should be different.\n",
    "* Two lines that are linear equations in one variable, using the same variable, are always parallel.\n",
    " * Horizontal lines, e.g. y = 3 and y = -6, always have a slope of 0.\n",
    " * Vertical lines, e.g. x = -2 and x = 9, always have a slope of undefined.\n",
    "\n",
    "#### Perpendicular Lines\n",
    "* Two lines that intersect at a 90$^{\\circ}$ angle, i.e. their slopes are negative reciprocals of each other. \n",
    "* Denoted by comparisons:\n",
    " * is perpendicular to: $\\perp$\n",
    " * is NOT perpendicular to: $\\not\\perp$\n",
    " * the slope perpendicular to another line: $m_\\perp$\n",
    "* Two lines that are linear equations in two variables are perpendicular when $m_1 * m_2 = -1$ and $m_1 = \\frac{-1}{m_2}$.\n",
    " * Determine if lines are perpendicular if one slope is the reciprocal of the other & they have opposite signs. If you multiply their slopes, the result is -1.\n",
    " * Example: $y = \\frac{1}{4}x - 1$ and $y = -4x + 2$\n",
    "* Two lines that are linear equations in one variable, with different variables, are always perpendicular.\n",
    " * x = 3 and y = 5 are perpendicular.\n",
    "\n",
    "\n",
    "\n",
    "## Graphing Linear Equations\n",
    "* The solutions for linear equations are in ordered pair form (x,y), which are used to graph a line of the equation.\n",
    "* Use an optimal method to find 3 points depeding on the equation \n",
    " * Solve for at least 3 points to ensure accuracy.\n",
    "* Point-plot the ordered pair solutions in the table.\n",
    "* Draw a line through the points, extending the line to fill the grid &/or drawing arrows on both sides of the line to show indefinte extention.\n",
    "* If the line isn't straight, something went wrong, & you need to recheck calculations or replot the points.\n",
    "\n",
    "#### Choosing an optimal method for getting points\n",
    "* There are many ways to get point coordinates for a linear equation, the most optimal of which depends on the format &/or variables of an equation, or its slope.\n",
    " * If the equation has only one variable, the value is constant, & it is a vertical or horizontal line.\n",
    " * If both x & y are on the same side of the equation (of the form ax + by = c), use the intercepts & sub x for any number for the 3rd point.\n",
    "   * Note that fractions are more difficult to graph because they require more precision. If an equation has both variable on one side, isolate the variable that doesn't have a coefficient to avoid getting fractional cooridinates.\n",
    " * If y is isolated on one side of the equation, use slope-intercept form.\n",
    " * If the slope & 1 point are given instead of an equation, use the slope method.\n",
    "\n",
    "\n",
    "## Interpreting Real World Applications of Slope-Intercept\n",
    "* Many real-world applications are modeled by linear equations. \n",
    "* Usually when a linear equation models a real-world situation, different letters are used for the variables, instead of x and y. The variable names remind us of what quantities are being measured.\n",
    "\n",
    "#### Temperature Conversion\n",
    "* $F = \\frac{9}{5}C + 32$, where F is Fahrenheit scale and C is the Celsius scale.\n",
    "* Convert Celsius temperatures to Fahrenheit by substituting a C value & solving for F.\n",
    "* $m = \\frac{9}{5}$, means the temp Fahrenheit (F) increases 9 degrees when the temp Celsius (C) increases 5 degrees.\n",
    "* F-intercept = 32, means that when the temperature is 0° on the Celsius scale, it is 32° Fahrenheit.\n",
    "\n",
    "#### Female Height by Shoe Size\n",
    "* h = 2s + 50, where h is height and s is shoe size.\n",
    "* Estimates female height based on shoe size.\n",
    "* m = 2, means that the height, increases by 2 inches when the shoe size increases by 1.\n",
    "* h-intercept = 50, means that when the shoe size is 0, the height is 50 inches.\n",
    "\n",
    "#### Temperature by Cricket Chirps\n",
    "* $T = \\frac{1}{4}n + 40$, where T is temperature in degrees Fahrenheit and n is number of cricket chirps per minute.\n",
    "* $m = \\frac{1}{4}$, means that the temp increases 1 degree when the number of chirps increases by 4 per minute.\n",
    "* T-intercept = 40, means that when the number of chirps is 0, the temperature is 40° Fahrenheit.\n",
    "\n",
    "#### Custom Example\n",
    "* The cost of running some types business has two components—a fixed cost and a variable cost. \n",
    " * The fixed cost is always the same regardless of how many units are produced. This is the cost of rent, insurance, equipment, advertising, and other items that must be paid regularly. \n",
    " * The variable cost depends on the number of units produced. It is for the material and labour needed to produce each item.\n",
    "* Example: Stella running a pizza business needs to determine the relationship between zir weekly cost and pizzas ze sells.\n",
    "* C = 4p + 25, where C is the weekly cost, in dollars, and p is the number of pizzas sold.\n",
    "* m = 4, means the cost increases by \\$4 for each pizza sold.\n",
    "* C-intercept = 25, is the fixed cost that exists even if ze sells no pizzas.\n"
   ]
  },
  {
   "cell_type": "markdown",
   "metadata": {},
   "source": [
    "# !!Graphing in Notebook!!\n",
    "* Creating plots & graphs digitally requires the use of other programs, which are detailed in my Jupyter Notebook.\n",
    "* Diagrams may look different than textbook diagrams in terms of formatting.\n",
    "* The following cellblock needs to be executed once before graphing & plotting for the rest of the notebook.\n",
    " * Click in the below cell. Hit ctrl + enter."
   ]
  },
  {
   "cell_type": "code",
   "execution_count": 1,
   "metadata": {},
   "outputs": [],
   "source": [
    "# Notebook imports for graphing.\n",
    "import numpy as np\n",
    "import pandas as pd\n",
    "import matplotlib.pyplot as plt\n",
    "import seaborn as sb"
   ]
  },
  {
   "cell_type": "markdown",
   "metadata": {},
   "source": [
    "### Graphing a Linear Equation in Two Variables\n",
    "* Example: Create a table of solutions for **y = 5x - 1** by choosing any value for x. Graph below. \n",
    " * First solution, where x = 0, solve for y: \n",
    "   * y = 5(0) - 1\n",
    "   * y = -1\n",
    "* Note: The first graph only plots the points. The second one has the line drawn.\n",
    "\n",
    "| Substitute x | Solve for y | Solution |\n",
    "|:-------------|:------------|:---------|\n",
    "| 0 | -1 | (0,-1) |\n",
    "| 1 | 4 | (1,4) |\n",
    "| 2 | 9 | (2,9) |\n",
    "| 5 | 24 | (5,24) |\n"
   ]
  },
  {
   "cell_type": "code",
   "execution_count": 2,
   "metadata": {},
   "outputs": [
    {
     "data": {
      "image/png": "[encoded data removed]",
      "text/plain": [
       "<Figure size 432x288 with 1 Axes>"
      ]
     },
     "metadata": {
      "needs_background": "light"
     },
     "output_type": "display_data"
    }
   ],
   "source": [
    "# add data\n",
    "x = np.array([0, 1, 2, 5])\n",
    "y = np.array([-1, 4, 9, 24])\n",
    "\n",
    "# draw grid & labels\n",
    "plt.grid()\n",
    "plt.title('y=5x-1')\n",
    "plt.xlabel('x-axis')\n",
    "plt.ylabel('y-axis')\n",
    "\n",
    "# plot points\n",
    "plt.scatter(x=x, y=y);"
   ]
  },
  {
   "cell_type": "code",
   "execution_count": 3,
   "metadata": {},
   "outputs": [
    {
     "data": {
      "image/png": "[encoded data removed]",
      "text/plain": [
       "<Figure size 432x288 with 1 Axes>"
      ]
     },
     "metadata": {
      "needs_background": "light"
     },
     "output_type": "display_data"
    }
   ],
   "source": [
    "# add data\n",
    "x = np.array([0, 1, 2, 5])\n",
    "y = np.array([-1, 4, 9, 24])\n",
    "\n",
    "# draw grid & labels\n",
    "plt.grid()\n",
    "plt.title('y=5x-1')\n",
    "plt.xlabel('x-axis')\n",
    "plt.ylabel('y-axis')\n",
    "\n",
    "# sb.regplot plots points & draws regression line, truncate=False extends line\n",
    "sb.regplot(x=x, y=y, truncate=False);"
   ]
  },
  {
   "cell_type": "markdown",
   "metadata": {},
   "source": [
    "### Graphing a Linear Equation in One Variable\n",
    "\n",
    "* Example: **x = -3**\n",
    "\n",
    "| Substitute x | Solve for y | Solution |\n",
    "|:-------------|:------------|:---------|\n",
    "| -3 | -1 | (-3,-1) |\n",
    "| -3 | 4 | (-3,4) |\n",
    "| -3 | 9 | (-3,9) |\n",
    "\n"
   ]
  },
  {
   "cell_type": "code",
   "execution_count": 4,
   "metadata": {},
   "outputs": [
    {
     "data": {
      "text/plain": [
       "[<matplotlib.lines.Line2D at 0x7f9c5ac0f850>]"
      ]
     },
     "execution_count": 4,
     "metadata": {},
     "output_type": "execute_result"
    },
    {
     "data": {
      "image/png": "[encoded data removed]",
      "text/plain": [
       "<Figure size 432x288 with 1 Axes>"
      ]
     },
     "metadata": {
      "needs_background": "light"
     },
     "output_type": "display_data"
    }
   ],
   "source": [
    "# add data\n",
    "x = np.array([-3, -3, -3])\n",
    "y = np.array([-1, 2, 4])\n",
    "\n",
    "# draw grid & labels\n",
    "plt.grid()\n",
    "plt.title('x = -3')\n",
    "plt.xlabel('x-axis')\n",
    "plt.xticks([-4, -3, -2, -1])\n",
    "plt.ylabel('y-axis')\n",
    "\n",
    "plt.scatter(x=x,y=y)\n",
    "\n",
    "plt.plot([-3, -3], [-1, 4])\n"
   ]
  },
  {
   "cell_type": "markdown",
   "metadata": {},
   "source": [
    "### Graphing a Linear Equation with the Intercepts\n",
    "Graph the equation **2x + y = 6**.\n",
    "* Find the intercepts\n",
    " * Y-Intercept:\n",
    "   * x = 0\n",
    "   * 2(0) + y = 6\n",
    "   * y = 6\n",
    "   * (0,6)\n",
    " * X-Intercept: \n",
    "   * y = 0\n",
    "   * 2x + 0 = 6\n",
    "   * x = 3\n",
    "   * (3,0)\n",
    "* It's best practice to find a third point to ensure accuracy. Pick any number for x & solve for y, like in the Table of Solutions.\n",
    " * Example: Third solution to 2x + y = 6\n",
    "   * x = 1\n",
    "   * 2(1) + y = 6\n",
    "   * 2 + y = 6\n",
    "   * y = 6 - 2\n",
    "   * y = 4\n",
    "   * (1,4)\n",
    "   \n",
    "| x | y | Coordinates |\n",
    "|:-------------|:------------|:---------|\n",
    "| 0 | 6 | (0,6) |\n",
    "| 3 | 0 | (3,0) |\n",
    "| 1 | 4 | (1,4) |\n"
   ]
  },
  {
   "cell_type": "code",
   "execution_count": 5,
   "metadata": {},
   "outputs": [
    {
     "data": {
      "image/png": "[encoded data removed]",
      "text/plain": [
       "<Figure size 432x288 with 1 Axes>"
      ]
     },
     "metadata": {
      "needs_background": "light"
     },
     "output_type": "display_data"
    }
   ],
   "source": [
    "# add data\n",
    "x = np.array([0, 1, 3])\n",
    "y = np.array([6, 4, 0])\n",
    "\n",
    "# draw grid & labels\n",
    "plt.grid()\n",
    "plt.title('2x + y = 6')\n",
    "plt.xlabel('x-axis')\n",
    "plt.ylabel('y-axis')\n",
    "\n",
    "# sb.regplot plots points & draws regression line, truncate=False extends line\n",
    "sb.regplot(x=x, y=y, truncate=False);"
   ]
  },
  {
   "cell_type": "markdown",
   "metadata": {},
   "source": [
    "# Linear Inequalities\n",
    "* Linear inequalities in two variables are very similar to linear equations in two variables.\n",
    " * The standard form is the same except with inequality relationship symbols rather than an equal sign.\n",
    " \n",
    "## Solutions to Linear Inequalities in Two Variables\n",
    "* To visualize graphing linear equations, we can use previous concepts. The point x=3 on a number line separates the number line into two parts, all values greater than 3 vs all values less than 3. Similarly, a line y=x+4 separates a plane into two regions.\n",
    "* A **boundary line** is a line with the equation Ax+By=C that separates the region where Ax+By > C from the region where Ax+By < C."
   ]
  },
  {
   "cell_type": "markdown",
   "metadata": {},
   "source": [
    "\n",
    "# System of Equations\n",
    "* Puzzle with multiple variables that can be solved if at least as many unique equations exist as variables in the system of equations.\n",
    "* Solve for one variable first, plug it in to the other equation & solve for the other var, then plug back into 1st equation\n",
    " * **Example:** Solve for **x** & **y** in the equations **2x + 2y = 14** and **x - y = 3**.\n",
    "\n",
    "> EQUATIONS: <br>\n",
    "$\\begin{equation*}\n",
    "2x + 2y = 14 \\quad\\text{(Equation 1)} \\\\\n",
    "x - y = 3 \\quad\\text{(Equation 2)} \n",
    "\\end{equation*}$\n",
    "\n",
    "> PROCESS: <br>\n",
    "$\\begin{align*}\n",
    "x - y &= 3 \\quad\\text{(Equation 2: solve for x)} \\\\\n",
    "x &= y + 3 \\quad\\text{(add y to both sides)} \\\\\n",
    "\\\\\n",
    "2x + 2y &= 14 \\quad\\text{(Equation 1: substitue x for E2 value & solve for y)} \\\\\n",
    "2(y+3) + 2y &= 14 \\quad\\text{(replace x with y+3)} \\\\\n",
    "2y + 6 + 2y &= 14 \\quad\\text{(simplify with distribution)} \\\\\n",
    "4y + 6 &= 14 \\quad\\text{(add like terms)} \\\\\n",
    "4y &= 8 \\quad\\text{(minus 6 from both sides)} \\\\\n",
    "y &= 2 \\quad\\text{divide by 4 on both sides} \\\\\n",
    "\\\\\n",
    "x &= y + 3 \\quad\\text{(Equation 2: substitue y for E1 value & solve for x)} \\\\\n",
    "x &= (2) + 3 \\quad\\text{(plug in 2 for y)} \\\\\n",
    "x &= 5 \\quad\\text{(simplify)}\n",
    "\\end{align*}$\n",
    "\n",
    "> SOLUTION: <br> x = 5 <br> y = 2\n",
    "\n",
    "\n"
   ]
  },
  {
   "cell_type": "markdown",
   "metadata": {},
   "source": [
    "Sources:\n",
    "* https://openstax.org/books/intermediate-algebra-2e/pages/3-4-graph-linear-inequalities-in-two-variables"
   ]
  }
 ],
 "metadata": {
  "kernelspec": {
   "display_name": "Python 3",
   "language": "python",
   "name": "python3"
  },
  "language_info": {
   "codemirror_mode": {
    "name": "ipython",
    "version": 3
   },
   "file_extension": ".py",
   "mimetype": "text/x-python",
   "name": "python",
   "nbconvert_exporter": "python",
   "pygments_lexer": "ipython3",
   "version": "3.7.6"
  }
 },
 "nbformat": 4,
 "nbformat_minor": 4
}
