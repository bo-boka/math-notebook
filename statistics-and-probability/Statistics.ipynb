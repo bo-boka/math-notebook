{
 "cells": [
  {
   "cell_type": "markdown",
   "metadata": {},
   "source": [
    "# Statistics\n",
    "* discipline that concerns the collection, organization, analysis, interpretation, and presentation of data\n",
    "* in applying statistics to a scientific, industrial, or social problem, it is conventional to begin with a statistical population or a statistical model to be studied."
   ]
  },
  {
   "cell_type": "code",
   "execution_count": 1,
   "metadata": {},
   "outputs": [],
   "source": [
    "# imports\n",
    "import numpy as np\n",
    "import pandas as pd\n",
    "import matplotlib.pyplot as plt\n",
    "import seaborn as sb"
   ]
  },
  {
   "cell_type": "markdown",
   "metadata": {},
   "source": [
    "## Mean, Median, & Mode\n",
    "The mean, median, and mode each represent a different calculation & interpretation of which value in a data set is the most common or most representative of the set as a whole. The term 'average' is often used to describe these, but most commonly for the mean.\n",
    "* **Mean**: aka the 'Average', is the number you get by dividing the sum of a set of values by the number of values in the set.\n",
    "* **Median**: is the middle number in a set of values when the set is arranged from smallest to largest.\n",
    "* **Mode**: is the most frequently repeated value in the set of values. Some data sets have no mode while others have more than one mode.\n",
    "\n",
    "## Probability\n",
    "* The probability of an event tells us how likely that event is to occur.\n",
    " * Basic definition assumes that all outcomes are equally likely to occur, but there are several other ways to calculate as well.\n",
    "* Usually written as fractions or decimals: Probability is the number of favorable outcomes divided by the total number of possible outcomes.\n",
    "* Example: For 5 pieces of fruit where 3 are bananas & 2 are apples, the probability of picking a banana is $\\frac{3}{5}$ or 0.6"
   ]
  },
  {
   "cell_type": "markdown",
   "metadata": {},
   "source": [
    "## Cartesian Coordinate System\n",
    "* in a plane, is a coordinate system that specifies each point uniquely by a pair of numerical coordinates, which are the signed distances to the point from two fixed perpendicular oriented lines, measured in the same unit of length. Each reference coordinate line is called a coordinate axis or just axis (plural axes) of the system, and the point where they meet is its origin, at ordered pair (0, 0). The coordinates can also be defined as the positions of the perpendicular projections of the point onto the two axes, expressed as signed distances from the origin.\n",
    "* One can use the same principle to specify the position of any point in three-dimensional space by three Cartesian coordinates, its signed distances to three mutually perpendicular planes (or, equivalently, by its perpendicular projection onto three mutually perpendicular lines). In general, n Cartesian coordinates (an element of real n-space) specify the point in an n-dimensional Euclidean space for any dimension n. These coordinates are equal, up to sign, to distances from the point to n mutually perpendicular hyperplanes.\n",
    "* Cartesian coordinates were invented by René Descartes in the 17th century(Latinized name: Cartesius) & revolutionized mathematics by providing the first systematic link between Euclidean geometry and algebra. Using the Cartesian coordinate system, geometric shapes (such as curves) can be described by Cartesian equations: algebraic equations involving the coordinates of the points lying on the shape. For example, a circle of radius 2, centered at the origin of the plane, may be described as the set of all points whose coordinates x and y satisfy the equation x2 + y2 = 4.\n",
    "* Cartesian coordinates are the foundation of analytic geometry, and provide enlightening geometric interpretations for many other branches of mathematics, such as linear algebra, complex analysis, differential geometry, multivariate calculus, group theory and more. \n",
    "* A familiar example is the concept of the graph of a function. "
   ]
  },
  {
   "cell_type": "markdown",
   "metadata": {},
   "source": [
    "## Graph of a function\n",
    "* the graph of a function $f$ is the set of ordered pairs $(x,y)$, where $f(x)=y$\n",
    "* In the common case where $x$ and $f(x)$ are real numbers, these pairs are Cartesian coordinates of points in two-dimensional space and thus form a subset of this plane"
   ]
  },
  {
   "cell_type": "markdown",
   "metadata": {},
   "source": [
    "### Linear Relationship\n",
    "* straight-line relationship between two variables\n",
    "* Linear relationships are fairly common in daily life.\n",
    "* can be expressed either in a graphical format or mathematical equation \n",
    "* formula: y = mx + b"
   ]
  },
  {
   "cell_type": "code",
   "execution_count": 4,
   "metadata": {},
   "outputs": [
    {
     "name": "stdout",
     "output_type": "stream",
     "text": [
      "   Size  Price\n",
      "0  1700  53000\n",
      "1  2100  65000\n",
      "2  1900  59000\n",
      "3  1300  41000\n",
      "4  1600  50000\n",
      "5  2200  68000\n"
     ]
    },
    {
     "data": {
      "text/plain": [
       "Text(0, 0.5, 'House Price')"
      ]
     },
     "execution_count": 4,
     "metadata": {},
     "output_type": "execute_result"
    },
    {
     "data": {
      "image/png": "[encoded data removed]",
      "text/plain": [
       "<Figure size 432x288 with 1 Axes>"
      ]
     },
     "metadata": {
      "needs_background": "light"
     },
     "output_type": "display_data"
    }
   ],
   "source": [
    "data = {'Size' : pd.Series([1700, 2100, 1900, 1300, 1600, 2200]),\n",
    "        'Price' : pd.Series([53000, 65000, 59000, 41000, 50000, 68000])}\n",
    "# Convert to DataFrame\n",
    "df = pd.DataFrame(data)\n",
    "print(df)\n",
    "\n",
    "plt.scatter(data = df, x = 'Size', y = 'Price');\n",
    "plt.xlabel('House Size')\n",
    "plt.ylabel('House Price')"
   ]
  },
  {
   "cell_type": "code",
   "execution_count": null,
   "metadata": {},
   "outputs": [],
   "source": []
  }
 ],
 "metadata": {
  "kernelspec": {
   "display_name": "Python 3",
   "language": "python",
   "name": "python3"
  },
  "language_info": {
   "codemirror_mode": {
    "name": "ipython",
    "version": 3
   },
   "file_extension": ".py",
   "mimetype": "text/x-python",
   "name": "python",
   "nbconvert_exporter": "python",
   "pygments_lexer": "ipython3",
   "version": "3.7.6"
  }
 },
 "nbformat": 4,
 "nbformat_minor": 4
}
